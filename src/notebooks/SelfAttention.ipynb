{
 "cells": [
  {
   "cell_type": "markdown",
   "metadata": {},
   "source": [
    "# Self Attention for Transformers"
   ]
  },
  {
   "cell_type": "code",
   "execution_count": 5,
   "metadata": {},
   "outputs": [],
   "source": [
    "import numpy as np\n",
    "import math\n",
    "\n",
    "L,d_k,d_v=4,8,8\n",
    "\n",
    "Q,K,V= np.random.randn(L,d_k),np.random.randn(L,d_k),np.random.randn(L,d_v)"
   ]
  },
  {
   "cell_type": "code",
   "execution_count": 8,
   "metadata": {},
   "outputs": [
    {
     "name": "stdout",
     "output_type": "stream",
     "text": [
      "Q: [[-0.18893947 -1.35479006 -0.55866686  2.35425287 -0.36205667 -1.2607808\n",
      "   0.506202    1.37869849]\n",
      " [-0.52296881 -0.09230961  2.36580814 -1.59494757  0.87851451 -0.79857993\n",
      "  -0.64321244  0.20643123]\n",
      " [-1.2941705  -1.81415514 -0.21097989 -0.18675128 -0.54250129 -0.16289557\n",
      "  -0.62879241 -0.54581436]\n",
      " [ 0.29802882 -1.50651087 -0.63559757  1.48080693  2.57330375  0.59962074\n",
      "   1.02848052 -0.04844782]]\n",
      "----------------------------------------------------------------------------------------------------\n",
      "K: [[ 0.6025335  -0.92451763  1.05174224  0.97579833 -0.31447442 -1.02482474\n",
      "   1.61228602 -0.19923093]\n",
      " [-0.7293687   0.25881528  1.25144275  0.60814213  1.38506764  0.25502577\n",
      "   0.57491904 -1.67082083]\n",
      " [-0.27967393 -0.98981757  0.5300907  -1.97008895  0.60805254 -0.69601799\n",
      "   1.37241535 -0.56077205]\n",
      " [-1.04147619 -0.52877561 -1.09745195 -0.26005618 -0.48479355  0.45135969\n",
      "   0.22950975  0.5364034 ]]\n",
      "----------------------------------------------------------------------------------------------------\n",
      "V: [[-0.61910506 -0.26590315  0.26611101  0.16678663  0.28683136  0.37957868\n",
      "   1.24123852 -0.38156662]\n",
      " [ 0.38279206 -1.09158901  0.73316543 -0.60732157  0.27909331 -2.27603183\n",
      "  -1.14830611  1.38225964]\n",
      " [-1.64188397  0.72186892  0.27973932 -0.44716731  0.40407971  0.41433603\n",
      "  -1.15822168  1.44320011]\n",
      " [-0.6368436   1.05574328 -0.26851138 -0.36905361 -1.48554066  1.32178041\n",
      "   0.18256772 -1.25663449]]\n"
     ]
    }
   ],
   "source": [
    "print(\"Q:\",Q)\n",
    "print(\"-\"*100)\n",
    "print(\"K:\",K)\n",
    "print(\"-\"*100)\n",
    "print(\"V:\",V)"
   ]
  },
  {
   "cell_type": "markdown",
   "metadata": {},
   "source": [
    "## Self Attention\n",
    "\n",
    "$$\n",
    "\\text{self attention = softmax}(\\frac{Q.K^T}{\\sqrt{d_k}}+M)\\\\\n",
    "\\text{new V= self attention } . V\n",
    "$$\n"
   ]
  },
  {
   "cell_type": "markdown",
   "metadata": {},
   "source": [
    "## Query (Q) : What am i looking for? (Pasta) \n",
    "[sequence_length x $d_q$] \n",
    "\n",
    "## Key   (K) : What i can offer (Food)\n",
    "[sequence_length x $d_k$] \n",
    "\n",
    "## Value (V) : What i actually offer (Rice)\n",
    "[sequence_length x $d_v$] "
   ]
  },
  {
   "cell_type": "code",
   "execution_count": 9,
   "metadata": {},
   "outputs": [
    {
     "data": {
      "text/plain": [
       "array([[ 4.79578735, -2.31579065, -2.96143478,  1.37620188],\n",
       "       [ 0.16607304,  2.64670345,  4.7254054 , -2.41135221],\n",
       "       [-0.07419865, -0.14569446,  1.64032857,  2.33962084],\n",
       "       [ 2.59296501,  3.88720534,  0.73960197,  0.03184337]])"
      ]
     },
     "execution_count": 9,
     "metadata": {},
     "output_type": "execute_result"
    }
   ],
   "source": [
    "np.matmul(Q,K.T)"
   ]
  },
  {
   "cell_type": "code",
   "execution_count": 10,
   "metadata": {},
   "outputs": [
    {
     "data": {
      "text/plain": [
       "(1.2780324528413598, 0.8245605456576397, 5.415188798952857)"
      ]
     },
     "execution_count": 10,
     "metadata": {},
     "output_type": "execute_result"
    }
   ],
   "source": [
    "# Why do we need to divide by sqrt(d_k)?\n",
    "\n",
    "Q.var(),K.var(),np.matmul(Q,K.T).var()"
   ]
  },
  {
   "cell_type": "code",
   "execution_count": 14,
   "metadata": {},
   "outputs": [
    {
     "data": {
      "text/plain": [
       "0.676898599869107"
      ]
     },
     "execution_count": 14,
     "metadata": {},
     "output_type": "execute_result"
    }
   ],
   "source": [
    "# But if we scale the dot product by 1/sqrt(d_k), we get a variance closer to main values.\n",
    "scaled= np.matmul(Q,K.T)/math.sqrt(d_k)\n",
    "scaled.var()"
   ]
  },
  {
   "cell_type": "markdown",
   "metadata": {},
   "source": [
    "## Masking"
   ]
  },
  {
   "cell_type": "code",
   "execution_count": 16,
   "metadata": {},
   "outputs": [
    {
     "data": {
      "text/plain": [
       "array([[1., 0., 0., 0.],\n",
       "       [1., 1., 0., 0.],\n",
       "       [1., 1., 1., 0.],\n",
       "       [1., 1., 1., 1.]])"
      ]
     },
     "execution_count": 16,
     "metadata": {},
     "output_type": "execute_result"
    }
   ],
   "source": [
    "mask=np.tril(np.ones((L,L)))\n",
    "mask"
   ]
  },
  {
   "cell_type": "code",
   "execution_count": 17,
   "metadata": {},
   "outputs": [
    {
     "data": {
      "text/plain": [
       "array([[  0., -inf, -inf, -inf],\n",
       "       [  0.,   0., -inf, -inf],\n",
       "       [  0.,   0.,   0., -inf],\n",
       "       [  0.,   0.,   0.,   0.]])"
      ]
     },
     "execution_count": 17,
     "metadata": {},
     "output_type": "execute_result"
    }
   ],
   "source": [
    "mask[mask==0]=np.NINF\n",
    "mask[mask==1]=0\n",
    "mask"
   ]
  },
  {
   "cell_type": "code",
   "execution_count": 18,
   "metadata": {},
   "outputs": [
    {
     "data": {
      "text/plain": [
       "array([[ 1.69556688,        -inf,        -inf,        -inf],\n",
       "       [ 0.05871569,  0.93575098,        -inf,        -inf],\n",
       "       [-0.02623318, -0.05151077,  0.57994373,        -inf],\n",
       "       [ 0.91675157,  1.37433463,  0.26148879,  0.01125833]])"
      ]
     },
     "execution_count": 18,
     "metadata": {},
     "output_type": "execute_result"
    }
   ],
   "source": [
    "scaled+mask"
   ]
  },
  {
   "cell_type": "code",
   "execution_count": 27,
   "metadata": {},
   "outputs": [],
   "source": [
    "## Softmax\n",
    "\n",
    "def softmax(x):\n",
    "    return np.exp(x)/np.sum(np.exp(x),axis=1)\n"
   ]
  },
  {
   "cell_type": "code",
   "execution_count": 29,
   "metadata": {},
   "outputs": [
    {
     "data": {
      "text/plain": [
       "array([[1.        , 0.        , 0.        , 0.        ],\n",
       "       [0.19459181, 0.70620748, 0.        , 0.        ],\n",
       "       [0.17874411, 0.26312977, 0.48140574, 0.        ],\n",
       "       [0.4589494 , 1.09498148, 0.35011284, 0.11539788]])"
      ]
     },
     "execution_count": 29,
     "metadata": {},
     "output_type": "execute_result"
    }
   ],
   "source": [
    "attention=softmax(np.array(scaled+mask))\n",
    "attention"
   ]
  },
  {
   "cell_type": "code",
   "execution_count": 30,
   "metadata": {},
   "outputs": [
    {
     "data": {
      "text/plain": [
       "array([[-0.61910506, -0.26590315,  0.26611101,  0.16678663,  0.28683136,\n",
       "         0.37957868,  1.24123852, -0.38156662],\n",
       "       [ 0.14985784, -0.82263091,  0.56954994, -0.39643973,  0.25291282,\n",
       "        -1.53348781, -0.56940752,  0.90191236],\n",
       "       [-0.80034977,  0.01275365,  0.37515154, -0.34526117,  0.31923347,\n",
       "        -0.33158054, -0.63786402,  0.9902757 ],\n",
       "       [-0.51332275, -0.94273973,  0.99188874, -0.78760627,  0.40728835,\n",
       "        -2.02041027, -1.07214861,  1.69869887]])"
      ]
     },
     "execution_count": 30,
     "metadata": {},
     "output_type": "execute_result"
    }
   ],
   "source": [
    "new_v=np.matmul(attention,V)\n",
    "new_v"
   ]
  },
  {
   "cell_type": "markdown",
   "metadata": {},
   "source": [
    "## Function"
   ]
  },
  {
   "cell_type": "code",
   "execution_count": 31,
   "metadata": {},
   "outputs": [],
   "source": [
    "def softmax(x):\n",
    "    return np.exp(x)/np.sum(np.exp(x),axis=1)\n",
    "\n",
    "def self_attention(Q,K,V, mask=False):\n",
    "    scaled= np.matmul(Q,K.T)/np.sqrt(K.shape[-1])\n",
    "    if mask:\n",
    "        mask=np.tril(np.ones(scaled.shape))\n",
    "        mask[mask==0]=np.NINF\n",
    "        mask[mask==1]=0\n",
    "        scaled+=mask\n",
    "    attention=softmax(scaled)\n",
    "    newV=np.matmul(attention,V)\n",
    "    return newV,attention\n"
   ]
  },
  {
   "cell_type": "code",
   "execution_count": 36,
   "metadata": {},
   "outputs": [
    {
     "name": "stdout",
     "output_type": "stream",
     "text": [
      "Q\n",
      " [[-0.18893947 -1.35479006 -0.55866686  2.35425287 -0.36205667 -1.2607808\n",
      "   0.506202    1.37869849]\n",
      " [-0.52296881 -0.09230961  2.36580814 -1.59494757  0.87851451 -0.79857993\n",
      "  -0.64321244  0.20643123]\n",
      " [-1.2941705  -1.81415514 -0.21097989 -0.18675128 -0.54250129 -0.16289557\n",
      "  -0.62879241 -0.54581436]\n",
      " [ 0.29802882 -1.50651087 -0.63559757  1.48080693  2.57330375  0.59962074\n",
      "   1.02848052 -0.04844782]]\n",
      "----------------------------------------------------------------------------------------------------\n",
      "K\n",
      " [[ 0.6025335  -0.92451763  1.05174224  0.97579833 -0.31447442 -1.02482474\n",
      "   1.61228602 -0.19923093]\n",
      " [-0.7293687   0.25881528  1.25144275  0.60814213  1.38506764  0.25502577\n",
      "   0.57491904 -1.67082083]\n",
      " [-0.27967393 -0.98981757  0.5300907  -1.97008895  0.60805254 -0.69601799\n",
      "   1.37241535 -0.56077205]\n",
      " [-1.04147619 -0.52877561 -1.09745195 -0.26005618 -0.48479355  0.45135969\n",
      "   0.22950975  0.5364034 ]]\n",
      "----------------------------------------------------------------------------------------------------\n",
      "V\n",
      " [[ 0.6025335  -0.92451763  1.05174224  0.97579833 -0.31447442 -1.02482474\n",
      "   1.61228602 -0.19923093]\n",
      " [-0.7293687   0.25881528  1.25144275  0.60814213  1.38506764  0.25502577\n",
      "   0.57491904 -1.67082083]\n",
      " [-0.27967393 -0.98981757  0.5300907  -1.97008895  0.60805254 -0.69601799\n",
      "   1.37241535 -0.56077205]\n",
      " [-1.04147619 -0.52877561 -1.09745195 -0.26005618 -0.48479355  0.45135969\n",
      "   0.22950975  0.5364034 ]]\n"
     ]
    }
   ],
   "source": [
    "values, attention=self_attention(Q,K,V, mask=True)\n",
    "print(\"Q\\n\", Q)\n",
    "print(\"-\"*100)\n",
    "print(\"K\\n\", K)\n",
    "print(\"-\"*100)\n",
    "print(\"V\\n\", K)"
   ]
  },
  {
   "cell_type": "code",
   "execution_count": 37,
   "metadata": {},
   "outputs": [
    {
     "name": "stdout",
     "output_type": "stream",
     "text": [
      "New V\n",
      " [[-0.61910506 -0.26590315  0.26611101  0.16678663  0.28683136  0.37957868\n",
      "   1.24123852 -0.38156662]\n",
      " [ 0.14985784 -0.82263091  0.56954994 -0.39643973  0.25291282 -1.53348781\n",
      "  -0.56940752  0.90191236]\n",
      " [-0.80034977  0.01275365  0.37515154 -0.34526117  0.31923347 -0.33158054\n",
      "  -0.63786402  0.9902757 ]\n",
      " [-0.51332275 -0.94273973  0.99188874 -0.78760627  0.40728835 -2.02041027\n",
      "  -1.07214861  1.69869887]]\n",
      "Attention\n",
      " [[1.         0.         0.         0.        ]\n",
      " [0.19459181 0.70620748 0.         0.        ]\n",
      " [0.17874411 0.26312977 0.48140574 0.        ]\n",
      " [0.4589494  1.09498148 0.35011284 0.11539788]]\n"
     ]
    }
   ],
   "source": [
    "print(\"New V\\n\", values)\n",
    "print(\"Attention\\n\", attention)"
   ]
  }
 ],
 "metadata": {
  "kernelspec": {
   "display_name": "venv",
   "language": "python",
   "name": "python3"
  },
  "language_info": {
   "codemirror_mode": {
    "name": "ipython",
    "version": 3
   },
   "file_extension": ".py",
   "mimetype": "text/x-python",
   "name": "python",
   "nbconvert_exporter": "python",
   "pygments_lexer": "ipython3",
   "version": "3.8.5"
  }
 },
 "nbformat": 4,
 "nbformat_minor": 2
}
