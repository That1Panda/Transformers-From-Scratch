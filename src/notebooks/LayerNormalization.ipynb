{
 "cells": [
  {
   "cell_type": "code",
   "execution_count": 1,
   "metadata": {},
   "outputs": [],
   "source": [
    "import torch\n",
    "from torch import nn"
   ]
  },
  {
   "cell_type": "code",
   "execution_count": 4,
   "metadata": {},
   "outputs": [
    {
     "name": "stdout",
     "output_type": "stream",
     "text": [
      "torch.Size([2, 1, 3])\n"
     ]
    }
   ],
   "source": [
    "inputs=torch.Tensor([[[0.2,0.1,0.3],[0.5,0.1,0.1]]])\n",
    "B,S,E=inputs.shape\n",
    "inputs=inputs.view(S,B,E)\n",
    "print(inputs.shape)"
   ]
  },
  {
   "cell_type": "code",
   "execution_count": 5,
   "metadata": {},
   "outputs": [
    {
     "data": {
      "text/plain": [
       "(torch.Size([1, 3]), torch.Size([1, 3]))"
      ]
     },
     "execution_count": 5,
     "metadata": {},
     "output_type": "execute_result"
    }
   ],
   "source": [
    "parameter_shape=inputs.shape[-2:]\n",
    "gama=nn.Parameter(torch.ones(parameter_shape))\n",
    "beta=nn.Parameter(torch.zeros(parameter_shape))\n",
    "gama.shape,beta.shape"
   ]
  },
  {
   "cell_type": "code",
   "execution_count": 8,
   "metadata": {},
   "outputs": [
    {
     "data": {
      "text/plain": [
       "[-1, -2]"
      ]
     },
     "execution_count": 8,
     "metadata": {},
     "output_type": "execute_result"
    }
   ],
   "source": [
    "dims=[-(i+1) for i in range(len(parameter_shape))]\n",
    "dims"
   ]
  },
  {
   "cell_type": "code",
   "execution_count": 43,
   "metadata": {},
   "outputs": [
    {
     "data": {
      "text/plain": [
       "torch.Size([2, 1, 1])"
      ]
     },
     "execution_count": 43,
     "metadata": {},
     "output_type": "execute_result"
    }
   ],
   "source": [
    "mean=inputs.mean(dims,keepdim=True)\n",
    "mean.shape"
   ]
  },
  {
   "cell_type": "code",
   "execution_count": 46,
   "metadata": {},
   "outputs": [
    {
     "data": {
      "text/plain": [
       "tensor([[[0.2000]],\n",
       "\n",
       "        [[0.2333]]])"
      ]
     },
     "execution_count": 46,
     "metadata": {},
     "output_type": "execute_result"
    }
   ],
   "source": [
    "mean"
   ]
  },
  {
   "cell_type": "code",
   "execution_count": 53,
   "metadata": {},
   "outputs": [
    {
     "data": {
      "text/plain": [
       "tensor([[[0.0817]],\n",
       "\n",
       "        [[0.1886]]])"
      ]
     },
     "execution_count": 53,
     "metadata": {},
     "output_type": "execute_result"
    }
   ],
   "source": [
    "var=((inputs-mean)**2).mean(dims,keepdim=True)\n",
    "epsilon=1e-5\n",
    "std=(var+epsilon).sqrt()\n",
    "std"
   ]
  },
  {
   "cell_type": "code",
   "execution_count": 54,
   "metadata": {},
   "outputs": [
    {
     "data": {
      "text/plain": [
       "tensor([[[ 0.0000, -1.2238,  1.2238]],\n",
       "\n",
       "        [[ 1.4140, -0.7070, -0.7070]]])"
      ]
     },
     "execution_count": 54,
     "metadata": {},
     "output_type": "execute_result"
    }
   ],
   "source": [
    "y=(inputs-mean)/std\n",
    "y"
   ]
  },
  {
   "cell_type": "code",
   "execution_count": 55,
   "metadata": {},
   "outputs": [
    {
     "data": {
      "text/plain": [
       "tensor([[[ 0.0000, -1.2238,  1.2238]],\n",
       "\n",
       "        [[ 1.4140, -0.7070, -0.7070]]], grad_fn=<AddBackward0>)"
      ]
     },
     "execution_count": 55,
     "metadata": {},
     "output_type": "execute_result"
    }
   ],
   "source": [
    "out= gama*y+beta\n",
    "out"
   ]
  },
  {
   "cell_type": "markdown",
   "metadata": {},
   "source": [
    "# Class"
   ]
  },
  {
   "cell_type": "code",
   "execution_count": 72,
   "metadata": {},
   "outputs": [],
   "source": [
    "import torch\n",
    "from torch import nn\n",
    "\n",
    "class LayerNormalization():\n",
    "    def __init__(self,parameter_shape,eps=1e-5):\n",
    "        self.parameter_shape=parameter_shape\n",
    "        self.eps=eps\n",
    "        self.gama=nn.Parameter(torch.ones(parameter_shape))\n",
    "        self.beta=nn.Parameter(torch.zeros(parameter_shape))\n",
    "\n",
    "    def forward(self,x):\n",
    "        \n",
    "        dims=[-(i+1) for i in range(len(self.parameter_shape))]\n",
    "        mean=x.mean(dims,keepdim=True)\n",
    "        print(f\"Mean \\n ({mean.size()}): \\n {mean}\")\n",
    "        var=((x-mean)**2).mean(dims,keepdim=True)\n",
    "        std=(var+self.eps).sqrt()\n",
    "        print(f\"Standard Deviation \\n ({std.size()}): \\n {std}\")\n",
    "        y=(x-mean)/std\n",
    "        print(f\"y \\n ({y.size()}) = \\n {y}\")\n",
    "        out=self.gama*y+self.beta\n",
    "        print(f\"out \\n ({out.size()}) = \\n {out}\")\n",
    "        return out"
   ]
  },
  {
   "cell_type": "code",
   "execution_count": 73,
   "metadata": {},
   "outputs": [
    {
     "name": "stdout",
     "output_type": "stream",
     "text": [
      "input \n",
      " (torch.Size([3, 5, 8])) = \n",
      " tensor([[[ 1.7863,  1.6969, -0.0267, -1.1018, -0.4357,  1.0984,  0.7715,\n",
      "           0.5637],\n",
      "         [-0.3976,  0.0082, -0.7245, -1.9276,  0.1923,  0.9856,  1.1037,\n",
      "           1.0151],\n",
      "         [ 1.1660, -0.5499,  0.5647, -0.4880, -0.7653, -1.4199, -0.5597,\n",
      "          -0.1057],\n",
      "         [ 2.5553, -0.1269, -1.1339, -0.1698,  0.8197,  0.5151,  0.5285,\n",
      "          -0.5106],\n",
      "         [ 0.2514, -0.0576,  2.5786, -0.0999,  0.1893,  1.1774,  0.6163,\n",
      "          -1.0078]],\n",
      "\n",
      "        [[ 1.1933,  1.6976, -1.1990,  0.3429, -0.4628,  0.0199, -2.4676,\n",
      "           1.0150],\n",
      "         [ 0.8992,  0.4890,  0.3794,  0.8350, -1.8216, -1.1510, -0.0731,\n",
      "           0.3796],\n",
      "         [ 0.3672,  1.0593, -1.1047, -0.3547,  0.0856,  0.1348,  0.5807,\n",
      "          -0.4097],\n",
      "         [-1.7095, -0.0088, -1.3868,  2.0350,  0.4451, -0.6855, -0.2023,\n",
      "           0.6463],\n",
      "         [ 0.0920, -0.3740,  2.1329, -0.6932, -0.3044,  0.4330, -2.2930,\n",
      "          -0.3805]],\n",
      "\n",
      "        [[-0.4710, -0.4528, -1.1019, -0.6992,  1.0402,  1.2180, -0.0757,\n",
      "           0.6809],\n",
      "         [ 0.2445, -0.3143, -0.6819, -0.8193,  0.9794, -0.7186, -1.1567,\n",
      "          -0.9361],\n",
      "         [ 0.1759, -0.9412, -2.1268, -0.0184,  0.5468, -1.7491, -1.2007,\n",
      "           0.2256],\n",
      "         [ 1.5784,  1.0112,  0.0525,  1.6016, -0.3089, -0.2528, -0.2782,\n",
      "          -0.9056],\n",
      "         [ 0.8635,  0.5574, -1.3454,  1.3353, -0.4256, -0.1298, -0.1569,\n",
      "          -0.3520]]])\n"
     ]
    }
   ],
   "source": [
    "batch_size=3\n",
    "sentence_length=5\n",
    "embedding_size=8\n",
    "inputs=torch.randn(batch_size,sentence_length,embedding_size)\n",
    "print(f\"input \\n ({inputs.size()}) = \\n {inputs}\")\n"
   ]
  },
  {
   "cell_type": "code",
   "execution_count": 74,
   "metadata": {},
   "outputs": [
    {
     "data": {
      "text/plain": [
       "torch.Size([8])"
      ]
     },
     "execution_count": 74,
     "metadata": {},
     "output_type": "execute_result"
    }
   ],
   "source": [
    "inputs.shape[-1:]"
   ]
  },
  {
   "cell_type": "code",
   "execution_count": 75,
   "metadata": {},
   "outputs": [],
   "source": [
    "layer_norm=LayerNormalization(inputs.shape[-1:])"
   ]
  },
  {
   "cell_type": "code",
   "execution_count": 76,
   "metadata": {},
   "outputs": [
    {
     "name": "stdout",
     "output_type": "stream",
     "text": [
      "Mean \n",
      " (torch.Size([3, 5, 1])): \n",
      " tensor([[[ 0.5441],\n",
      "         [ 0.0319],\n",
      "         [-0.2697],\n",
      "         [ 0.3097],\n",
      "         [ 0.4560]],\n",
      "\n",
      "        [[ 0.0174],\n",
      "         [-0.0079],\n",
      "         [ 0.0448],\n",
      "         [-0.1083],\n",
      "         [-0.1734]],\n",
      "\n",
      "        [[ 0.0173],\n",
      "         [-0.4254],\n",
      "         [-0.6360],\n",
      "         [ 0.3123],\n",
      "         [ 0.0433]]])\n",
      "Standard Deviation \n",
      " (torch.Size([3, 5, 1])): \n",
      " tensor([[[0.9504],\n",
      "         [0.9777],\n",
      "         [0.7553],\n",
      "         [1.0350],\n",
      "         [0.9925]],\n",
      "\n",
      "        [[1.2842],\n",
      "         [0.9138],\n",
      "         [0.6243],\n",
      "         [1.1191],\n",
      "         [1.1522]],\n",
      "\n",
      "        [[0.8033],\n",
      "         [0.6649],\n",
      "         [0.9391],\n",
      "         [0.8915],\n",
      "         [0.7891]]])\n",
      "y \n",
      " (torch.Size([3, 5, 8])) = \n",
      " tensor([[[ 1.3070e+00,  1.2130e+00, -6.0059e-01, -1.7317e+00, -1.0309e+00,\n",
      "           5.8325e-01,  2.3930e-01,  2.0650e-02],\n",
      "         [-4.3932e-01, -2.4190e-02, -7.7360e-01, -2.0042e+00,  1.6405e-01,\n",
      "           9.7542e-01,  1.0962e+00,  1.0056e+00],\n",
      "         [ 1.9010e+00, -3.7099e-01,  1.1049e+00, -2.8901e-01, -6.5612e-01,\n",
      "          -1.5229e+00, -3.8400e-01,  2.1717e-01],\n",
      "         [ 2.1696e+00, -4.2178e-01, -1.3947e+00, -4.6323e-01,  4.9278e-01,\n",
      "           1.9845e-01,  2.1142e-01, -7.9255e-01],\n",
      "         [-2.0614e-01, -5.1747e-01,  2.1387e+00, -5.6011e-01, -2.6865e-01,\n",
      "           7.2696e-01,  1.6153e-01, -1.4748e+00]],\n",
      "\n",
      "        [[ 9.1567e-01,  1.3084e+00, -9.4726e-01,  2.5349e-01, -3.7398e-01,\n",
      "           1.9416e-03, -1.9351e+00,  7.7682e-01],\n",
      "         [ 9.9268e-01,  5.4374e-01,  4.2383e-01,  9.2242e-01, -1.9847e+00,\n",
      "          -1.2508e+00, -7.1306e-02,  4.2411e-01],\n",
      "         [ 5.1646e-01,  1.6251e+00, -1.8413e+00, -6.4001e-01,  6.5270e-02,\n",
      "           1.4413e-01,  8.5840e-01, -7.2801e-01],\n",
      "         [-1.4307e+00,  8.8947e-02, -1.1424e+00,  1.9151e+00,  4.9447e-01,\n",
      "          -5.1577e-01, -8.3958e-02,  6.7431e-01],\n",
      "         [ 2.3032e-01, -1.7409e-01,  2.0017e+00, -4.5113e-01, -1.1372e-01,\n",
      "           5.2629e-01, -1.8396e+00, -1.7970e-01]],\n",
      "\n",
      "        [[-6.0788e-01, -5.8519e-01, -1.3933e+00, -8.9195e-01,  1.2733e+00,\n",
      "           1.4947e+00, -1.1573e-01,  8.2601e-01],\n",
      "         [ 1.0074e+00,  1.6702e-01, -3.8579e-01, -5.9239e-01,  2.1127e+00,\n",
      "          -4.4099e-01, -1.0998e+00, -7.6812e-01],\n",
      "         [ 8.6454e-01, -3.2500e-01, -1.5875e+00,  6.5762e-01,  1.2594e+00,\n",
      "          -1.1853e+00, -6.0130e-01,  9.1744e-01],\n",
      "         [ 1.4202e+00,  7.8401e-01, -2.9137e-01,  1.4462e+00, -6.9676e-01,\n",
      "          -6.3385e-01, -6.6227e-01, -1.3661e+00],\n",
      "         [ 1.0395e+00,  6.5145e-01, -1.7599e+00,  1.6374e+00, -5.9426e-01,\n",
      "          -2.1939e-01, -2.5374e-01, -5.0096e-01]]])\n",
      "out \n",
      " (torch.Size([3, 5, 8])) = \n",
      " tensor([[[ 1.3070e+00,  1.2130e+00, -6.0059e-01, -1.7317e+00, -1.0309e+00,\n",
      "           5.8325e-01,  2.3930e-01,  2.0650e-02],\n",
      "         [-4.3932e-01, -2.4190e-02, -7.7360e-01, -2.0042e+00,  1.6405e-01,\n",
      "           9.7542e-01,  1.0962e+00,  1.0056e+00],\n",
      "         [ 1.9010e+00, -3.7099e-01,  1.1049e+00, -2.8901e-01, -6.5612e-01,\n",
      "          -1.5229e+00, -3.8400e-01,  2.1717e-01],\n",
      "         [ 2.1696e+00, -4.2178e-01, -1.3947e+00, -4.6323e-01,  4.9278e-01,\n",
      "           1.9845e-01,  2.1142e-01, -7.9255e-01],\n",
      "         [-2.0614e-01, -5.1747e-01,  2.1387e+00, -5.6011e-01, -2.6865e-01,\n",
      "           7.2696e-01,  1.6153e-01, -1.4748e+00]],\n",
      "\n",
      "        [[ 9.1567e-01,  1.3084e+00, -9.4726e-01,  2.5349e-01, -3.7398e-01,\n",
      "           1.9416e-03, -1.9351e+00,  7.7682e-01],\n",
      "         [ 9.9268e-01,  5.4374e-01,  4.2383e-01,  9.2242e-01, -1.9847e+00,\n",
      "          -1.2508e+00, -7.1306e-02,  4.2411e-01],\n",
      "         [ 5.1646e-01,  1.6251e+00, -1.8413e+00, -6.4001e-01,  6.5270e-02,\n",
      "           1.4413e-01,  8.5840e-01, -7.2801e-01],\n",
      "         [-1.4307e+00,  8.8947e-02, -1.1424e+00,  1.9151e+00,  4.9447e-01,\n",
      "          -5.1577e-01, -8.3958e-02,  6.7431e-01],\n",
      "         [ 2.3032e-01, -1.7409e-01,  2.0017e+00, -4.5113e-01, -1.1372e-01,\n",
      "           5.2629e-01, -1.8396e+00, -1.7970e-01]],\n",
      "\n",
      "        [[-6.0788e-01, -5.8519e-01, -1.3933e+00, -8.9195e-01,  1.2733e+00,\n",
      "           1.4947e+00, -1.1573e-01,  8.2601e-01],\n",
      "         [ 1.0074e+00,  1.6702e-01, -3.8579e-01, -5.9239e-01,  2.1127e+00,\n",
      "          -4.4099e-01, -1.0998e+00, -7.6812e-01],\n",
      "         [ 8.6454e-01, -3.2500e-01, -1.5875e+00,  6.5762e-01,  1.2594e+00,\n",
      "          -1.1853e+00, -6.0130e-01,  9.1744e-01],\n",
      "         [ 1.4202e+00,  7.8401e-01, -2.9137e-01,  1.4462e+00, -6.9676e-01,\n",
      "          -6.3385e-01, -6.6227e-01, -1.3661e+00],\n",
      "         [ 1.0395e+00,  6.5145e-01, -1.7599e+00,  1.6374e+00, -5.9426e-01,\n",
      "          -2.1939e-01, -2.5374e-01, -5.0096e-01]]], grad_fn=<AddBackward0>)\n"
     ]
    }
   ],
   "source": [
    "out=layer_norm.forward(inputs)"
   ]
  },
  {
   "cell_type": "code",
   "execution_count": 77,
   "metadata": {},
   "outputs": [
    {
     "data": {
      "text/plain": [
       "(tensor(-2.6822e-08, grad_fn=<MeanBackward0>),\n",
       " tensor(1.0127, grad_fn=<StdBackward0>))"
      ]
     },
     "execution_count": 77,
     "metadata": {},
     "output_type": "execute_result"
    }
   ],
   "source": [
    "out[0].mean(),out[0].std()   "
   ]
  },
  {
   "cell_type": "code",
   "execution_count": null,
   "metadata": {},
   "outputs": [],
   "source": []
  }
 ],
 "metadata": {
  "kernelspec": {
   "display_name": "venv",
   "language": "python",
   "name": "python3"
  },
  "language_info": {
   "codemirror_mode": {
    "name": "ipython",
    "version": 3
   },
   "file_extension": ".py",
   "mimetype": "text/x-python",
   "name": "python",
   "nbconvert_exporter": "python",
   "pygments_lexer": "ipython3",
   "version": "3.8.5"
  }
 },
 "nbformat": 4,
 "nbformat_minor": 2
}
